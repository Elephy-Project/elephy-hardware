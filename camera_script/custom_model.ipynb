{
 "cells": [
  {
   "cell_type": "code",
   "execution_count": null,
   "metadata": {},
   "outputs": [],
   "source": [
    "from matplotlib import pyplot as plt\n",
    "import matplotlib.patches as patches # for bounding box\n",
    "\n",
    "from PIL import Image\n",
    "\n",
    "from collections import defaultdict\n",
    "\n",
    "import json\n",
    "\n",
    "plt.rcParams['figure.figsize'] = (15, 15)\n",
    "\n"
   ]
  }
 ],
 "metadata": {
  "kernelspec": {
   "display_name": "env",
   "language": "python",
   "name": "python3"
  },
  "language_info": {
   "name": "python",
   "version": "3.11.1"
  },
  "orig_nbformat": 4,
  "vscode": {
   "interpreter": {
    "hash": "a2135b755bda8a652d8c941ac623161d5c3d6c3a3622220bd3810e674f535c8f"
   }
  }
 },
 "nbformat": 4,
 "nbformat_minor": 2
}
